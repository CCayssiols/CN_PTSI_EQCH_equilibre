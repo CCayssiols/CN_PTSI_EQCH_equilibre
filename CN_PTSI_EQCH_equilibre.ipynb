{
 "cells": [
  {
   "cell_type": "markdown",
   "metadata": {},
   "source": [
    "<div style='background-image: url(\"main.png\") ; padding: 0px ; background-size: cover ; border-radius: 5px ; height: 200px ; width: 100%'>\n",
    "    <div style=\"float: right ; margin: 20px ; padding: 20px ; background: rgba(255 , 255 , 255 , 0.9) ; width: 50% ; height: 150px\">\n",
    "        <div style=\"position: relative ; top: 50% ; transform: translatey(-50%)\">\n",
    "            <div style=\"font-size: xx-large ; font-weight: 900 ; color: rgba(0 , 0 , 0 , .8) ; line-height: 100%\">Équilibres chimiques\n",
    "            </div>\n",
    "            <div style=\"font-size: large ; padding-top: 20px ; color: rgba(0 , 0 , 0 , 0.5)\">Composition à l'équilibre | Réactions équilibrées et quantitatives\n",
    "             </div>\n",
    "        </div>\n",
    "    </div>\n",
    "</div>"
   ]
  },
  {
   "cell_type": "code",
   "execution_count": 1,
   "metadata": {},
   "outputs": [],
   "source": [
    "# commande permettant d'insérer les figures matplotlib dans les notebooks\n",
    "%matplotlib widget\n",
    "\n",
    "# import des librairies \n",
    "import numpy as np\n",
    "from scipy.optimize import bisect, newton\n",
    "from scipy.integrate import odeint\n",
    "from scipy import fft\n",
    "import matplotlib.pyplot as plt"
   ]
  },
  {
   "cell_type": "markdown",
   "metadata": {},
   "source": [
    "# Mise en œuvre du problème physique\n",
    "##  Exemple de réaction d'oxydo-réduction quantitative en phase aqueuse\n",
    "On considère le système réactionnel isochore dans lequel on place une solution aqueuse de diiode $\\text{I}_{2\\text{(aq)}}$ de concentration initiale $C_0$, ainsi qu'une solution aqueuse de thiosufate de sodium ($\\text{S}_2\\text{O}^{2-}_{3\\text{(aq)}} + \\text{Na}^+$) de concentration initiale $C_1$. La réaction entre ces deux espèces rédox répond à l'équation de réaction :\n",
    "$$\\text{I}_{2\\text{(aq)}} + 2 \\text{S}_2\\text{O}^{2-}_{3\\text{(aq)}} \\to 2\\text{I}^- + \\text{S}_4\\text{O}^{2-}_{6\\text{(aq)}} $$\n",
    "\n",
    "&nbsp;\n",
    "Cette réaction est quantitative et répond au tableau d'avancement ci-dessous :\n",
    "\n",
    "|$\\text{mole.L}^{-1}$|$\\text{I}_{2\\text{(aq)}}$|$+ 2 \\text{S}_2\\text{O}^{2-}_{3\\text{(aq)}}$|$\\to 2\\text{I}^-$|$+ \\text{S}_4\\text{O}^{2-}_{6\\text{(aq)}}$|\n",
    "|:-----------|:-------:|:--------:|:----:|:---:|\n",
    "|$\\text{E.I.}$| $C_0$   | $C_1$    | $0$  | $0$ |\n",
    "|$\\forall t$ | $C_0-x$ | $C_1-2x$ | $2x$ | $x$ |\n",
    "\n",
    "&nbsp;\n",
    "La réaction étant quantitative, il suffit de chercher le réactif limitant pour établir la valeur de l'avancement à l'équilibre.\n",
    "\n",
    "## Mise en œuvre numérique\n",
    "\n",
    "Pour plus de généralités on crée deux listes \n",
    "* une liste `coef` contenant les coefficients stœchiométriques algébriques des espèces de la réaction étudiée ;\n",
    "* une liste `conc_init` contenant les concentrations initiales des diverses espèces de la réaction étudiée.\n",
    "\n",
    "On peut alors facilement en déduire l'expression de la concentration à tout instant que l'on stocke dans une nouvelle liste notée `conc_t`.\n",
    "\n",
    "&nbsp;\n",
    "La méthode `root` (voir https://numpy.org/doc/stable/reference/generated/numpy.roots.html)de numpy permet de trouver rapidement les racines d'un polynôme d'ordre quelconque et donc d'en déduire le réactif limitant."
   ]
  },
  {
   "cell_type": "code",
   "execution_count": 2,
   "metadata": {},
   "outputs": [
    {
     "name": "stdout",
     "output_type": "stream",
     "text": [
      "La valeur de l'avancement volumique maximal est : 0.005 mol/L\n",
      "Il correspond à l'(aux)espèce(s) d'indice(s) :  [1]\n",
      "Le tableau d'avancement, à l'avancement volumique maximal vaut :  [0.005, 0.0, 0.01, 0.005] mol/L\n"
     ]
    }
   ],
   "source": [
    "# concentrations des réactifs\n",
    "C0 = 1e-2\n",
    "C1 = 1e-2\n",
    "# coefficients stœchiométriques algébriques\n",
    "coef = [-1, -2, 2, 1]\n",
    "# concentrations initiales\n",
    "conc_init = [C0, C1, 0, 0]\n",
    "\n",
    "# concentration à un instant quelconque, écrite sous forme de polynôme du 1e degré\n",
    "conc_t=[]\n",
    "for i in range(len(coef)) :\n",
    "    conc_t.append([coef[i], conc_init[i]])\n",
    "\n",
    "sol=[]\n",
    "for i in range(len(conc_t)):\n",
    "    if coef[i] < 0 : # on ne traite que les réactifs, de coefficients stœchiométriques algébriques négatifs\n",
    "        sol.append(np.roots(conc_t[i]))\n",
    "\n",
    "# le réactif limitant est celui qui est consommé pour l'avancement le plus faible\n",
    "x_vol=min(sol)\n",
    "# on cherche le, ou les indices qui correspondent au réactif limitant\n",
    "indices = [i for i, x in enumerate(sol) if x == min(sol)]\n",
    "\n",
    "# on affiche les résultats\n",
    "print(\"La valeur de l'avancement volumique maximal est : %.3f mol/L\" % x_vol[0])\n",
    "print(\"Il correspond à l'(aux)espèce(s) d'indice(s) : \", indices)\n",
    "ta_max=[conc_init[i]+coef[i]*x_vol[0] for i in range(len(coef))]\n",
    "print(\"Le tableau d'avancement, à l'avancement volumique maximal vaut : \", ta_max,\"mol/L\")"
   ]
  },
  {
   "cell_type": "markdown",
   "metadata": {},
   "source": [
    "##  Exemple de réaction équilibrée : synthèse gazeuse du dibrome\n",
    "Un récipient de volume $V_0 = 2,00~\\text{L}$ contient initialement $n_0 = 0,500~\\text{mol}$ de $\\text{COBr}_{2\\text{(g)}}$, dans lequel on place également $n_1 = 0,100~\\text{mol}$ de $\\text{CO}_\\text{(g)}$ et $n_2 = 0,200~\\text{mol}$ de $\\text{Br}_{2\\text{(g)}}$.<br/>\n",
    "Le $\\text{COBr}_{2\\text{(g)}}$ se décompose à une température de $346~\\text{K}$ selon l’équation de réaction : $$\\text{COBr}_{2\\text{(g)}} \\to \\text{CO}_\\text{(g)} + \\text{Br}_{2\\text{(g)}}$$\n",
    "\n",
    "&nbsp;\n",
    "Tous les gaz sont supposés parfaits et la constante d’équilibre à $346~\\text{K}$ est : $K^\\circ = 5,46$.\n",
    "\n",
    "&nbsp;\n",
    "Cette réaction est équilibrée et répond au tableau d'avancement suivant :\n",
    "\n",
    "|$\\text{mol}$|$\\text{COBr}_{2\\text{(g)}}$|$\\to \\text{CO}_\\text{(g)}$|$+ \\text{Br}_{2\\text{(g)}}$|$n_\\text{tot}^\\text{gaz}$|\n",
    "|:------------|:-------:|:-------:|:-------:|:------------:|\n",
    "|$\\text{E.I.}$|$n_0$    |$n_1$    |$n_2$    |$n_0+n_1+n_2$    |\n",
    "|$\\forall t$  |$n_0-\\xi$|$n_1+\\xi$|$n_2+\\xi$|$n_0+n_1+n_2+\\xi$|\n",
    "\n",
    "&nbsp;\n",
    "La réaction est équilibrée, et l'avancement réactionnel l'équilibre correspond à l'égalité du quotient réactionnel et de la constante d'équilibre. Compte-tenu de la nature gazeuse des réactifs, l'activité $a_i$ d'une espèce gazeuse est : \n",
    "$$a_i=\\dfrac{P_i}{P^\\circ}=n_i\\dfrac{RT}{VP^\\circ}$$\n",
    "\n",
    "&nbsp;\n",
    "À l'équilibre, on a donc l'égalité : \n",
    "$$K^\\circ = \\dfrac{\\frac{(n_1+\\xi)RT}{P^\\circ V}\\frac{(n_2+\\xi)RT}{P^\\circ V}}{\\frac{(n_0-\\xi)RT}{P^\\circ V}}=\\dfrac{(n_1+\\xi)(n_2+\\xi)}{(n_0-\\xi)}\\dfrac{RT}{P^\\circ V}$$\n",
    "\n",
    "## Mise en œuvre numérique\n",
    "\n",
    "Comme précédemment, on crée deux listes :\n",
    "* une liste `coef` contenant les coefficients stœchiométriques algébriques des espèces de la réaction étudiée ;\n",
    "* une liste `conc_init` contenant les concentrations initiales des diverses espèces de la réaction étudiée.\n",
    "\n",
    "Connaissant $\\xi$, on peut alors en déduire l'expression de la concentration à tout instant que l'on stocke dans une nouvelle liste notée `conc_t`.\n",
    "\n",
    "&nbsp;\n",
    "La méthode de dichotomie `bisect` (voir <a href=\"https://docs.scipy.org/doc/scipy/reference/generated/scipy.optimize.bisect.html\"> doc. </a>) et la méthode de Newton `newton` (voir <a href=\"https://docs.scipy.org/doc/scipy/reference/generated/scipy.optimize.newton.html\"> doc. </a>), toutes deux issues de la librairie `scipy`permettent de trouver une racine d'une fonction $f$ quelconque dans un intervalle $[a,b]$ ou à partir d'une valeur proche.\n",
    "\n",
    "&nbsp;\n",
    "L'intervalle de recherche à donner pour  `bisect` est celui compris entre les valeurs extrêmes possibles de $\\xi$ : $\\xi_\\text{max}=0,5~\\text{mol}$ (exclut de la recherche car donne $Q\\to +\\infty$) et $\\xi_\\text{min}=-0,1~\\text{mol}$ (réaction quantitative en sens indirect).\n",
    "\n",
    "&nbsp;\n",
    "Compte-tenu de la faible valeur de $K^\\circ$, on peut supposer que la réaction ne sera pas quantitative, et donner à la méthode `newton` une valeur initiale faible, ici $\\xi=0,1~\\text{mol}$.\n",
    "\n",
    "&nbsp;\n",
    "Il ne reste qu'à coder une fonction qui s'annule pour la concentration à l'équilibre, la fonction : $\\xi \\mapsto Q(\\xi)-K^\\circ$ que l'on code sous le nom `solve`."
   ]
  },
  {
   "cell_type": "code",
   "execution_count": 3,
   "metadata": {},
   "outputs": [
    {
     "name": "stdout",
     "output_type": "stream",
     "text": [
      "La valeur de l'avancement à l'équilibre, calculé par la méthode de dichotomie vaut : 0.19430 mol\n",
      "La valeur de l'avancement à l'équilibre, calculé par la méthode de Newton vaut : 0.19430 mol\n",
      "Le tableau d'avancement, à l'avancement d'équilibre vaut :  [0.305696, 0.294304, 0.394304] mol\n"
     ]
    }
   ],
   "source": [
    "# quantités de matière initiales\n",
    "n0 = 0.5\n",
    "n1 = 0.1\n",
    "n2 = 0.2\n",
    "# coefficients stœchiométriques algébriques\n",
    "coef = [-1, 1, 1]\n",
    "# quantités de matière initiales\n",
    "n_init = [n0, n1, n2]\n",
    "\n",
    "# constante d'équilibre\n",
    "K0 = 5.46\n",
    "# données thermodynamiquse\n",
    "P0 = 1.0e5\n",
    "T = 346\n",
    "V = 2.0e-3\n",
    "R = 8.314\n",
    "\n",
    "# fonction qui s'annule lorsque xi=xi_eq\n",
    "def solve(xi):\n",
    "    return R*T*(n1+xi)*(n2+xi)/((n0-xi)*P0*V)-K0\n",
    "\n",
    "# appel des diverses fonctions de recherche de racines\n",
    "xi_eq=bisect(solve, -.1, .499) # on donne la fonction et l'intervalle initiale de recherche tel que f(a)*f(b)<0\n",
    "xi_eq2=newton(solve, 0.1) # on donne une valeur initiale faible\n",
    "\n",
    "print(\"La valeur de l'avancement à l'équilibre, calculé par la méthode de dichotomie vaut : %.5f mol\" % xi_eq)\n",
    "print(\"La valeur de l'avancement à l'équilibre, calculé par la méthode de Newton vaut : %.5f mol\" % xi_eq2)\n",
    "\n",
    "ta_max=[round(n_init[i]+coef[i]*xi_eq,6) for i in range(len(coef))]\n",
    "print(\"Le tableau d'avancement, à l'avancement d'équilibre vaut : \", ta_max,\"mol\")"
   ]
  },
  {
   "cell_type": "markdown",
   "metadata": {},
   "source": [
    "On peut également tracer l'ensemble des valeurs possibles pour le quotient réactionnel et comparer cette valeur à la constante d'équilibre. On constate que l'égalité $Q_r=K^\\circ$ est bien réalisée pour la valeur trouvée à l'étape précédente.\n",
    "\n",
    "&nbsp;\n",
    "*NB : le tracé est tronqué pour des valeurs de $\\xi$ comprise entre $0$ et $\\frac{n_0}{2}$ pour conserver une certaine lisibilité à ce diagramme.*"
   ]
  },
  {
   "cell_type": "code",
   "execution_count": 4,
   "metadata": {},
   "outputs": [
    {
     "data": {
      "application/vnd.jupyter.widget-view+json": {
       "model_id": "e1ba030758ea4c67914b2f058f031326",
       "version_major": 2,
       "version_minor": 0
      },
      "image/png": "[encoded data removed]",
      "text/plain": [
       "Canvas(toolbar=Toolbar(toolitems=[('Home', 'Reset original view', 'home', 'home'), ('Back', 'Back to previous …"
      ]
     },
     "metadata": {},
     "output_type": "display_data"
    }
   ],
   "source": [
    "plt.figure()\n",
    "N=1000\n",
    "xi=np.linspace(0,n0/2, N)\n",
    "def Q(xi):\n",
    "    return R*T*(n1+xi)*(n2+xi)/((n0-xi)*P0*V)\n",
    "plt.plot(xi, Q(xi), label=\"Quotient réactionnel\")\n",
    "plt.plot([xi[0],xi[N-1]],[K0,K0], label=\"Constante d'équilibre\")\n",
    "plt.plot(xi_eq,Q(xi_eq),'o', label=\"Avancement à l'équilibre\")\n",
    "plt.grid(True)\n",
    "plt.legend()\n",
    "plt.show()"
   ]
  },
  {
   "cell_type": "code",
   "execution_count": null,
   "metadata": {},
   "outputs": [],
   "source": []
  }
 ],
 "metadata": {
  "kernelspec": {
   "display_name": "Python 3",
   "language": "python",
   "name": "python3"
  },
  "language_info": {
   "codemirror_mode": {
    "name": "ipython",
    "version": 3
   },
   "file_extension": ".py",
   "mimetype": "text/x-python",
   "name": "python",
   "nbconvert_exporter": "python",
   "pygments_lexer": "ipython3",
   "version": "3.8.8"
  }
 },
 "nbformat": 4,
 "nbformat_minor": 2
}
